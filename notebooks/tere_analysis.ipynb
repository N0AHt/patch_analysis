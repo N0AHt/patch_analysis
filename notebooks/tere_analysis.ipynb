{
 "cells": [
  {
   "cell_type": "code",
   "execution_count": 1,
   "metadata": {},
   "outputs": [],
   "source": [
    "import sys\n",
    "import os\n",
    "sys.path.append(os.path.abspath('../utils')) # add my code to the path\n",
    "\n",
    "import patch_utils as patch\n",
    "import plot_utils as p_plot\n",
    "\n",
    "import matplotlib.pyplot as plt\n",
    "%matplotlib qt\n",
    "# for pop out plots\n",
    "\n",
    "%load_ext autoreload\n",
    "%autoreload 2\n",
    "\n"
   ]
  },
  {
   "cell_type": "code",
   "execution_count": 22,
   "metadata": {},
   "outputs": [],
   "source": [
    "folder = r'C:\\Users\\jl5675\\Desktop\\Noah\\data\\tere_sept\\9'\n",
    "\n",
    "patchdata = patch.make_dataset_dataframe(folder)"
   ]
  },
  {
   "cell_type": "code",
   "execution_count": 25,
   "metadata": {},
   "outputs": [
    {
     "name": "stdout",
     "output_type": "stream",
     "text": [
      "100ms11mw_cell1\n",
      "10ms6mw_cell1\n",
      "1ms12mw_cell1\n",
      "300ms9mw2_cell1\n"
     ]
    }
   ],
   "source": [
    "recNames = patchdata.columns.tolist()\n",
    "\n",
    "for name in recNames:\n",
    "    p_plot.time_plot(patchdata.loc['voltage', name], patchdata.loc['stimulation', name], \n",
    "                     patchdata.loc['metadata', name], title = name)\n",
    "    \n",
    "    p_plot.multiplot(patchdata.loc['voltage', name], patchdata.loc['metadata', name], title = name)"
   ]
  },
  {
   "cell_type": "code",
   "execution_count": null,
   "metadata": {},
   "outputs": [],
   "source": []
  }
 ],
 "metadata": {
  "kernelspec": {
   "display_name": "Python 3",
   "language": "python",
   "name": "python3"
  },
  "language_info": {
   "codemirror_mode": {
    "name": "ipython",
    "version": 3
   },
   "file_extension": ".py",
   "mimetype": "text/x-python",
   "name": "python",
   "nbconvert_exporter": "python",
   "pygments_lexer": "ipython3",
   "version": "3.12.4"
  }
 },
 "nbformat": 4,
 "nbformat_minor": 2
}
