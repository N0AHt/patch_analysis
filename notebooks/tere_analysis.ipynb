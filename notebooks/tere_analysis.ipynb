{
 "cells": [
  {
   "cell_type": "code",
   "execution_count": 4,
   "metadata": {},
   "outputs": [
    {
     "name": "stdout",
     "output_type": "stream",
     "text": [
      "The autoreload extension is already loaded. To reload it, use:\n",
      "  %reload_ext autoreload\n"
     ]
    }
   ],
   "source": [
    "import sys\n",
    "import os\n",
    "sys.path.append(os.path.abspath('../utils')) # add my code to the path\n",
    "\n",
    "import patch_utils as patch\n",
    "import plot_utils as p_plot\n",
    "\n",
    "import matplotlib.pyplot as plt\n",
    "%matplotlib qt\n",
    "# for pop out plots\n",
    "\n",
    "%load_ext autoreload\n",
    "%autoreload 2\n"
   ]
  },
  {
   "cell_type": "code",
   "execution_count": 9,
   "metadata": {},
   "outputs": [],
   "source": [
    "folder = r'C:\\Users\\jl5675\\Desktop\\Noah\\data\\tere_sept\\9'\n",
    "\n",
    "patchdata = patch.make_dataset_dataframe(folder)\n",
    "\n",
    "recName = patchdata.columns[0]"
   ]
  },
  {
   "cell_type": "code",
   "execution_count": 10,
   "metadata": {},
   "outputs": [
    {
     "ename": "AttributeError",
     "evalue": "'NoneType' object has no attribute 'values'",
     "output_type": "error",
     "traceback": [
      "\u001b[1;31m---------------------------------------------------------------------------\u001b[0m",
      "\u001b[1;31mAttributeError\u001b[0m                            Traceback (most recent call last)",
      "Cell \u001b[1;32mIn[10], line 1\u001b[0m\n\u001b[1;32m----> 1\u001b[0m p_plot\u001b[38;5;241m.\u001b[39mtime_plot_stim(patchdata\u001b[38;5;241m.\u001b[39mloc[\u001b[38;5;124m'\u001b[39m\u001b[38;5;124mvoltage\u001b[39m\u001b[38;5;124m'\u001b[39m, recName], patchdata\u001b[38;5;241m.\u001b[39mloc[\u001b[38;5;124m'\u001b[39m\u001b[38;5;124mstimulation\u001b[39m\u001b[38;5;124m'\u001b[39m, recName], patchdata\u001b[38;5;241m.\u001b[39mloc[\u001b[38;5;124m'\u001b[39m\u001b[38;5;124mmetadata\u001b[39m\u001b[38;5;124m'\u001b[39m, recName], title \u001b[38;5;241m=\u001b[39m recName)\n",
      "File \u001b[1;32mc:\\Users\\jl5675\\Desktop\\Noah\\github\\patch_analysis\\utils\\plot_utils.py:129\u001b[0m, in \u001b[0;36mtime_plot_stim\u001b[1;34m(data_voltage, data_stimulation, metadata, title, show)\u001b[0m\n\u001b[0;32m    126\u001b[0m resolution \u001b[38;5;241m=\u001b[39m \u001b[38;5;28mint\u001b[39m(metadata\u001b[38;5;241m.\u001b[39mresolution\u001b[38;5;241m.\u001b[39mvalue)\n\u001b[0;32m    127\u001b[0m x_axis \u001b[38;5;241m=\u001b[39m np\u001b[38;5;241m.\u001b[39mlinspace(\u001b[38;5;241m0\u001b[39m, \u001b[38;5;28mlen\u001b[39m(volts) \u001b[38;5;241m/\u001b[39m resolution, \u001b[38;5;28mlen\u001b[39m(volts))\n\u001b[1;32m--> 129\u001b[0m crosses \u001b[38;5;241m=\u001b[39m find_threshold_crosses(stims)\n\u001b[0;32m    131\u001b[0m plt\u001b[38;5;241m.\u001b[39mfigure(figsize\u001b[38;5;241m=\u001b[39m(\u001b[38;5;241m10\u001b[39m, \u001b[38;5;241m6\u001b[39m))\n\u001b[0;32m    133\u001b[0m plt\u001b[38;5;241m.\u001b[39mplot(x_axis, volts)\n",
      "File \u001b[1;32mc:\\Users\\jl5675\\Desktop\\Noah\\github\\patch_analysis\\utils\\plot_utils.py:151\u001b[0m, in \u001b[0;36mfind_threshold_crosses\u001b[1;34m(data_stim)\u001b[0m\n\u001b[0;32m    149\u001b[0m \u001b[38;5;28;01mdef\u001b[39;00m \u001b[38;5;21mfind_threshold_crosses\u001b[39m(data_stim):\n\u001b[0;32m    150\u001b[0m     \u001b[38;5;66;03m#find on/off stim points\u001b[39;00m\n\u001b[1;32m--> 151\u001b[0m     stim \u001b[38;5;241m=\u001b[39m data_stim\u001b[38;5;241m.\u001b[39mvalues\u001b[38;5;241m.\u001b[39mflatten()\n\u001b[0;32m    152\u001b[0m     threshold \u001b[38;5;241m=\u001b[39m stim\u001b[38;5;241m.\u001b[39mmax()\u001b[38;5;241m/\u001b[39m\u001b[38;5;241m2\u001b[39m\n\u001b[0;32m    154\u001b[0m     indices_positive \u001b[38;5;241m=\u001b[39m np\u001b[38;5;241m.\u001b[39mwhere((stim[:\u001b[38;5;241m-\u001b[39m\u001b[38;5;241m1\u001b[39m] \u001b[38;5;241m<\u001b[39m threshold) \u001b[38;5;241m&\u001b[39m (stim[\u001b[38;5;241m1\u001b[39m:] \u001b[38;5;241m>\u001b[39m\u001b[38;5;241m=\u001b[39m threshold))[\u001b[38;5;241m0\u001b[39m] \u001b[38;5;241m+\u001b[39m \u001b[38;5;241m1\u001b[39m \u001b[38;5;66;03m# genius move from chatGPT \u001b[39;00m\n",
      "\u001b[1;31mAttributeError\u001b[0m: 'NoneType' object has no attribute 'values'"
     ]
    }
   ],
   "source": [
    "p_plot.time_plot_stim(patchdata.loc['voltage', recName], patchdata.loc['stimulation', recName], patchdata.loc['metadata', recName], title = recName)\n"
   ]
  },
  {
   "cell_type": "code",
   "execution_count": 11,
   "metadata": {},
   "outputs": [
    {
     "ename": "TypeError",
     "evalue": "object of type 'NoneType' has no len()",
     "output_type": "error",
     "traceback": [
      "\u001b[1;31m---------------------------------------------------------------------------\u001b[0m",
      "\u001b[1;31mTypeError\u001b[0m                                 Traceback (most recent call last)",
      "Cell \u001b[1;32mIn[11], line 5\u001b[0m\n\u001b[0;32m      2\u001b[0m stims \u001b[38;5;241m=\u001b[39m patchdata\u001b[38;5;241m.\u001b[39mloc[\u001b[38;5;124m'\u001b[39m\u001b[38;5;124mstimulation\u001b[39m\u001b[38;5;124m'\u001b[39m, recName]\n\u001b[0;32m      4\u001b[0m cross_list \u001b[38;5;241m=\u001b[39m []\n\u001b[1;32m----> 5\u001b[0m \u001b[38;5;28;01mfor\u001b[39;00m i \u001b[38;5;129;01min\u001b[39;00m \u001b[38;5;28mrange\u001b[39m(\u001b[38;5;28mlen\u001b[39m(stims)):\n\u001b[0;32m      6\u001b[0m     cross_list\u001b[38;5;241m.\u001b[39mappend(p_plot\u001b[38;5;241m.\u001b[39mfind_threshold_crosses(stims\u001b[38;5;241m.\u001b[39mloc[i]))\n\u001b[0;32m      8\u001b[0m cross_list[\u001b[38;5;241m0\u001b[39m]\n",
      "\u001b[1;31mTypeError\u001b[0m: object of type 'NoneType' has no len()"
     ]
    }
   ],
   "source": [
    "volts = patchdata.loc['voltage', recName].values\n",
    "stims = patchdata.loc['stimulation', recName]\n",
    "\n",
    "cross_list = []\n",
    "for i in range(len(stims)):\n",
    "    cross_list.append(p_plot.find_threshold_crosses(stims.loc[i]))\n",
    "\n",
    "cross_list[0]\n",
    "    \n",
    "\n",
    "# for i, v in enumerate(volts):\n",
    "#     plt.plot(v)\n",
    "#     plt.axvspan(crosses[i][0] - 10000*(i+1), crosses[i][1] - 10000*(i+1), color = 'r', alpha = 0.05, lw = 0)\n",
    "# plt.show()"
   ]
  },
  {
   "cell_type": "code",
   "execution_count": 12,
   "metadata": {},
   "outputs": [
    {
     "ename": "AttributeError",
     "evalue": "'NoneType' object has no attribute 'values'",
     "output_type": "error",
     "traceback": [
      "\u001b[1;31m---------------------------------------------------------------------------\u001b[0m",
      "\u001b[1;31mAttributeError\u001b[0m                            Traceback (most recent call last)",
      "Cell \u001b[1;32mIn[12], line 4\u001b[0m\n\u001b[0;32m      1\u001b[0m recNames \u001b[38;5;241m=\u001b[39m patchdata\u001b[38;5;241m.\u001b[39mcolumns\u001b[38;5;241m.\u001b[39mtolist()\n\u001b[0;32m      3\u001b[0m \u001b[38;5;28;01mfor\u001b[39;00m name \u001b[38;5;129;01min\u001b[39;00m recNames:\n\u001b[1;32m----> 4\u001b[0m     p_plot\u001b[38;5;241m.\u001b[39mtime_plot(patchdata\u001b[38;5;241m.\u001b[39mloc[\u001b[38;5;124m'\u001b[39m\u001b[38;5;124mvoltage\u001b[39m\u001b[38;5;124m'\u001b[39m, name], patchdata\u001b[38;5;241m.\u001b[39mloc[\u001b[38;5;124m'\u001b[39m\u001b[38;5;124mstimulation\u001b[39m\u001b[38;5;124m'\u001b[39m, name], \n\u001b[0;32m      5\u001b[0m                      patchdata\u001b[38;5;241m.\u001b[39mloc[\u001b[38;5;124m'\u001b[39m\u001b[38;5;124mmetadata\u001b[39m\u001b[38;5;124m'\u001b[39m, name], title \u001b[38;5;241m=\u001b[39m name)\n\u001b[0;32m      7\u001b[0m     p_plot\u001b[38;5;241m.\u001b[39mmultiplot(patchdata\u001b[38;5;241m.\u001b[39mloc[\u001b[38;5;124m'\u001b[39m\u001b[38;5;124mvoltage\u001b[39m\u001b[38;5;124m'\u001b[39m, name], patchdata\u001b[38;5;241m.\u001b[39mloc[\u001b[38;5;124m'\u001b[39m\u001b[38;5;124mmetadata\u001b[39m\u001b[38;5;124m'\u001b[39m, name], title \u001b[38;5;241m=\u001b[39m name)\n",
      "File \u001b[1;32mc:\\Users\\jl5675\\Desktop\\Noah\\github\\patch_analysis\\utils\\plot_utils.py:57\u001b[0m, in \u001b[0;36mtime_plot\u001b[1;34m(data_voltage, data_current, metadata, title, show)\u001b[0m\n\u001b[0;32m     53\u001b[0m \u001b[38;5;66;03m# plot with current\u001b[39;00m\n\u001b[0;32m     54\u001b[0m \n\u001b[0;32m     55\u001b[0m \u001b[38;5;66;03m# Concatenate all lists into one long list\u001b[39;00m\n\u001b[0;32m     56\u001b[0m data_long_V \u001b[38;5;241m=\u001b[39m data_voltage\u001b[38;5;241m.\u001b[39mvalues\u001b[38;5;241m.\u001b[39mflatten()\n\u001b[1;32m---> 57\u001b[0m data_long_I \u001b[38;5;241m=\u001b[39m data_current\u001b[38;5;241m.\u001b[39mvalues\u001b[38;5;241m.\u001b[39mflatten()\n\u001b[0;32m     58\u001b[0m resolution \u001b[38;5;241m=\u001b[39m \u001b[38;5;28mint\u001b[39m(metadata\u001b[38;5;241m.\u001b[39mresolution\u001b[38;5;241m.\u001b[39mvalue)\n\u001b[0;32m     59\u001b[0m x_axis_long \u001b[38;5;241m=\u001b[39m np\u001b[38;5;241m.\u001b[39mlinspace(\u001b[38;5;241m0\u001b[39m, \u001b[38;5;28mlen\u001b[39m(data_long_V) \u001b[38;5;241m/\u001b[39m resolution, \u001b[38;5;28mlen\u001b[39m(data_long_V))\n",
      "\u001b[1;31mAttributeError\u001b[0m: 'NoneType' object has no attribute 'values'"
     ]
    }
   ],
   "source": [
    "recNames = patchdata.columns.tolist()\n",
    "\n",
    "for name in recNames:\n",
    "    p_plot.time_plot(patchdata.loc['voltage', name], patchdata.loc['stimulation', name], \n",
    "                     patchdata.loc['metadata', name], title = name)\n",
    "    \n",
    "    p_plot.multiplot(patchdata.loc['voltage', name], patchdata.loc['metadata', name], title = name)"
   ]
  },
  {
   "cell_type": "code",
   "execution_count": null,
   "metadata": {},
   "outputs": [],
   "source": []
  }
 ],
 "metadata": {
  "kernelspec": {
   "display_name": "Python 3",
   "language": "python",
   "name": "python3"
  },
  "language_info": {
   "codemirror_mode": {
    "name": "ipython",
    "version": 3
   },
   "file_extension": ".py",
   "mimetype": "text/x-python",
   "name": "python",
   "nbconvert_exporter": "python",
   "pygments_lexer": "ipython3",
   "version": "3.12.4"
  }
 },
 "nbformat": 4,
 "nbformat_minor": 2
}
