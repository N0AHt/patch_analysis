{
 "cells": [
  {
   "cell_type": "code",
   "execution_count": 1,
   "metadata": {},
   "outputs": [],
   "source": [
    "import patch_utils as patch\n",
    "import plot_utils as p_plot\n",
    "import matplotlib.pyplot as plt\n",
    "%matplotlib qt\n",
    "\n",
    "%load_ext autoreload\n",
    "%autoreload 2\n",
    "\n",
    "folder = r'C:\\Users\\jl5675\\Desktop\\Noah\\data\\tere_sept\\9'"
   ]
  },
  {
   "cell_type": "code",
   "execution_count": 22,
   "metadata": {},
   "outputs": [],
   "source": [
    "patchdata = patch.make_dataset_dataframe(folder)"
   ]
  },
  {
   "cell_type": "code",
   "execution_count": 23,
   "metadata": {},
   "outputs": [
    {
     "data": {
      "text/html": [
       "<div>\n",
       "<style scoped>\n",
       "    .dataframe tbody tr th:only-of-type {\n",
       "        vertical-align: middle;\n",
       "    }\n",
       "\n",
       "    .dataframe tbody tr th {\n",
       "        vertical-align: top;\n",
       "    }\n",
       "\n",
       "    .dataframe thead th {\n",
       "        text-align: right;\n",
       "    }\n",
       "</style>\n",
       "<table border=\"1\" class=\"dataframe\">\n",
       "  <thead>\n",
       "    <tr style=\"text-align: right;\">\n",
       "      <th></th>\n",
       "      <th>100ms11mw_cell1</th>\n",
       "      <th>10ms6mw_cell1</th>\n",
       "      <th>1ms12mw_cell1</th>\n",
       "      <th>300ms9mw2_cell1</th>\n",
       "    </tr>\n",
       "  </thead>\n",
       "  <tbody>\n",
       "    <tr>\n",
       "      <th>date</th>\n",
       "      <td>2024/09/09</td>\n",
       "      <td>2024/09/09</td>\n",
       "      <td>2024/09/09</td>\n",
       "      <td>2024/09/09</td>\n",
       "    </tr>\n",
       "    <tr>\n",
       "      <th>paths</th>\n",
       "      <td>[C:\\Users\\jl5675\\Desktop\\Noah\\data\\tere_sept\\9...</td>\n",
       "      <td>[C:\\Users\\jl5675\\Desktop\\Noah\\data\\tere_sept\\9...</td>\n",
       "      <td>[C:\\Users\\jl5675\\Desktop\\Noah\\data\\tere_sept\\9...</td>\n",
       "      <td>[C:\\Users\\jl5675\\Desktop\\Noah\\data\\tere_sept\\9...</td>\n",
       "    </tr>\n",
       "    <tr>\n",
       "      <th>metadata</th>\n",
       "      <td>resolution        ...</td>\n",
       "      <td>resolution        ...</td>\n",
       "      <td>resolution        ...</td>\n",
       "      <td>resolution        ...</td>\n",
       "    </tr>\n",
       "    <tr>\n",
       "      <th>voltage</th>\n",
       "      <td>0          1          2          3   ...</td>\n",
       "      <td>0          1          2          3   ...</td>\n",
       "      <td>0          1          2          3   ...</td>\n",
       "      <td>0          1          2          3   ...</td>\n",
       "    </tr>\n",
       "    <tr>\n",
       "      <th>current</th>\n",
       "      <td>0          1          2          3   ...</td>\n",
       "      <td>0           1           2           ...</td>\n",
       "      <td>0           1           2           ...</td>\n",
       "      <td>0          1          2          3   ...</td>\n",
       "    </tr>\n",
       "    <tr>\n",
       "      <th>stimulation</th>\n",
       "      <td>0         1         2         3       ...</td>\n",
       "      <td>0         1         2         3       ...</td>\n",
       "      <td>0         1         2         3       ...</td>\n",
       "      <td>0         1         2         3       ...</td>\n",
       "    </tr>\n",
       "  </tbody>\n",
       "</table>\n",
       "</div>"
      ],
      "text/plain": [
       "                                               100ms11mw_cell1  \\\n",
       "date                                                2024/09/09   \n",
       "paths        [C:\\Users\\jl5675\\Desktop\\Noah\\data\\tere_sept\\9...   \n",
       "metadata                                 resolution        ...   \n",
       "voltage               0          1          2          3   ...   \n",
       "current               0          1          2          3   ...   \n",
       "stimulation          0         1         2         3       ...   \n",
       "\n",
       "                                                 10ms6mw_cell1  \\\n",
       "date                                                2024/09/09   \n",
       "paths        [C:\\Users\\jl5675\\Desktop\\Noah\\data\\tere_sept\\9...   \n",
       "metadata                                 resolution        ...   \n",
       "voltage               0          1          2          3   ...   \n",
       "current                0           1           2           ...   \n",
       "stimulation          0         1         2         3       ...   \n",
       "\n",
       "                                                 1ms12mw_cell1  \\\n",
       "date                                                2024/09/09   \n",
       "paths        [C:\\Users\\jl5675\\Desktop\\Noah\\data\\tere_sept\\9...   \n",
       "metadata                                 resolution        ...   \n",
       "voltage               0          1          2          3   ...   \n",
       "current                0           1           2           ...   \n",
       "stimulation          0         1         2         3       ...   \n",
       "\n",
       "                                               300ms9mw2_cell1  \n",
       "date                                                2024/09/09  \n",
       "paths        [C:\\Users\\jl5675\\Desktop\\Noah\\data\\tere_sept\\9...  \n",
       "metadata                                 resolution        ...  \n",
       "voltage               0          1          2          3   ...  \n",
       "current               0          1          2          3   ...  \n",
       "stimulation          0         1         2         3       ...  "
      ]
     },
     "execution_count": 23,
     "metadata": {},
     "output_type": "execute_result"
    }
   ],
   "source": [
    "patchdata"
   ]
  },
  {
   "cell_type": "code",
   "execution_count": 21,
   "metadata": {},
   "outputs": [
    {
     "data": {
      "text/plain": [
       "(11, 10000)"
      ]
     },
     "execution_count": 21,
     "metadata": {},
     "output_type": "execute_result"
    }
   ],
   "source": [
    "patchdata['100ms11mw_cell1'].stimulation.shape"
   ]
  },
  {
   "cell_type": "code",
   "execution_count": 25,
   "metadata": {},
   "outputs": [
    {
     "name": "stdout",
     "output_type": "stream",
     "text": [
      "100ms11mw_cell1\n",
      "10ms6mw_cell1\n",
      "1ms12mw_cell1\n",
      "300ms9mw2_cell1\n"
     ]
    }
   ],
   "source": [
    "recNames = patchdata.columns.tolist()\n",
    "for name in recNames:\n",
    "    print(name)\n",
    "    p_plot.time_plot(patchdata.loc['voltage', name], patchdata.loc['stimulation', name], \n",
    "                     patchdata.loc['metadata', name], title = name)\n",
    "    \n",
    "    p_plot.multiplot(patchdata.loc['voltage', name], patchdata.loc['metadata', name], title = name)"
   ]
  },
  {
   "cell_type": "code",
   "execution_count": null,
   "metadata": {},
   "outputs": [],
   "source": []
  }
 ],
 "metadata": {
  "kernelspec": {
   "display_name": "Python 3",
   "language": "python",
   "name": "python3"
  },
  "language_info": {
   "codemirror_mode": {
    "name": "ipython",
    "version": 3
   },
   "file_extension": ".py",
   "mimetype": "text/x-python",
   "name": "python",
   "nbconvert_exporter": "python",
   "pygments_lexer": "ipython3",
   "version": "3.12.4"
  }
 },
 "nbformat": 4,
 "nbformat_minor": 2
}
