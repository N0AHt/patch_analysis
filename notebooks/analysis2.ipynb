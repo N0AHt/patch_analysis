{
 "cells": [
  {
   "cell_type": "code",
   "execution_count": null,
   "metadata": {},
   "outputs": [],
   "source": [
    "import sys\n",
    "import os\n",
    "sys.path.append(os.path.abspath('../utils')) # add my code to the path\n",
    "\n",
    "from patch_analysis.utils import patch_utils as patch, plot_utils as p_plot, spike_analysis_utils as spikes\n",
    "\n",
    "import matplotlib.pyplot as plt\n",
    "%matplotlib qt \n",
    "# for pop out plots\n",
    "# NOTE: This doesn't work on VScode unless you install Pyside6 in the environment you are using as a kernel\n",
    "\n",
    "%load_ext autoreload\n",
    "%autoreload 2"
   ]
  },
  {
   "cell_type": "code",
   "execution_count": null,
   "metadata": {},
   "outputs": [],
   "source": [
    "folder_path = r'C:\\Users\\jl5675\\Desktop\\Noah\\data\\patch2'\n",
    "folder_path_x = r'C:\\Users\\jl5675\\Desktop\\Noah\\data\\npatch\\noah\\xxx'\n",
    "\n",
    "patchdata1 = patch.make_dataset_dataframe(folder_path, stim=False)\n",
    "patchdata2 = patch.make_dataset_dataframe(folder_path_x, stim=False)\n"
   ]
  },
  {
   "cell_type": "code",
   "execution_count": null,
   "metadata": {},
   "outputs": [],
   "source": [
    "#NOTE:\n",
    "# df = dataframe.loc['paths', 'rec1_cell1'] # need to access row and column! if I only use loc['row_name'] it will return a series!\n",
    "# note that you can force the return of a dataframe by using double brackets loc[ [row_name] ] (Returns a DataFrame (because pandas treats this as accessing multiple rows, even if it's only one).)\n",
    "\n",
    "rec_name1 = patchdata1.columns[0]\n",
    "date1 = patchdata1.loc['date', rec_name1]\n",
    "title1 = 'DIV 16; ' + 'cell_1'# + '; ' + date\n",
    "\n",
    "rec_name2 = patchdata2.columns[1]\n",
    "date2 = patchdata2.loc['date', rec_name2]\n",
    "title2 = 'DIV ~25; ' + 'cell_1'# + '; ' + date\n"
   ]
  },
  {
   "cell_type": "code",
   "execution_count": null,
   "metadata": {},
   "outputs": [],
   "source": [
    "p_plot.multiplot(patchdata1.loc['voltage', rec_name1], patchdata1.loc['metadata', rec_name1], title1)\n",
    "p_plot.time_plot(patchdata1.loc['voltage', rec_name1], patchdata1.loc['current', rec_name1], patchdata1.loc['metadata', rec_name1], title1)\n",
    "\n",
    "p_plot.time_plot(patchdata2.loc['voltage', rec_name2], patchdata2.loc['current', rec_name2], patchdata2.loc['metadata', rec_name2], title2)\n",
    "p_plot.multiplot(patchdata2.loc['voltage', rec_name2], patchdata2.loc['metadata', rec_name2], title2)\n"
   ]
  },
  {
   "cell_type": "code",
   "execution_count": null,
   "metadata": {},
   "outputs": [],
   "source": [
    "%whos"
   ]
  },
  {
   "cell_type": "code",
   "execution_count": null,
   "metadata": {},
   "outputs": [],
   "source": [
    "plt.plot(patchdata['rec1_cell1']['voltage'].loc[7])\n",
    "# plt.plot(patchdata['rec4_holding_cell1']['voltage'].loc[15])\n",
    "plt.show()\n"
   ]
  },
  {
   "cell_type": "code",
   "execution_count": null,
   "metadata": {},
   "outputs": [],
   "source": [
    "patchdata.loc['metadata'].xx3_cell1"
   ]
  },
  {
   "cell_type": "code",
   "execution_count": null,
   "metadata": {},
   "outputs": [],
   "source": [
    "excitability1, peaks1 = spikes.find_excitability(patchdata1['rec4_holding_cell1'])\n",
    "excitability2, peaks2 = spikes.find_excitability(patchdata2[rec_name2])\n"
   ]
  },
  {
   "cell_type": "code",
   "execution_count": null,
   "metadata": {},
   "outputs": [],
   "source": [
    "data_long_V1 = patchdata1.loc['voltage', 'rec4_holding_cell1'].values[17]\n",
    "data_long_V2 = patchdata2.loc['voltage', rec_name2].values[11]\n",
    "\n",
    "# data_long_I = data_current.values.flatten()\n",
    "resolution = 10\n",
    "import numpy as np\n",
    "x_axis_long = np.linspace(0, len(data_long_V) / resolution, len(data_long_V)) \n",
    "\n",
    "# First subplot\n",
    "plt.plot(x_axis_long, data_long_V1, color='b', linestyle='-', label = 'DIV 16')\n",
    "plt.plot(x_axis_long, data_long_V2, color='r', linestyle='-', label = 'DIV 25')\n",
    "\n",
    "\n",
    "# plt.plot(peaks2/10, data_long_V[peaks2], \"xr\")\n",
    "\n",
    "plt.title('Recorded APs')\n",
    "plt.ylabel('Voltage (mV)')\n",
    "plt.legend()\n",
    "plt.xlabel('Time (ms)')\n",
    "plt.grid(True)\n",
    "\n",
    "\n",
    "plt.show()"
   ]
  },
  {
   "cell_type": "code",
   "execution_count": null,
   "metadata": {},
   "outputs": [],
   "source": [
    "excitabilities = []\n",
    "peaks_list = []\n",
    "for rec in patchdata1.columns:\n",
    "    print(rec)\n",
    "    excitability, peaks = spikes.find_excitability(patchdata1[rec])\n",
    "    excitabilities.append(excitability)\n",
    "    peaks_list.append(peaks)\n"
   ]
  },
  {
   "cell_type": "code",
   "execution_count": null,
   "metadata": {},
   "outputs": [],
   "source": [
    "excitabilities2 = []\n",
    "peaks_list2 = []\n",
    "for rec in patchdata2.columns:\n",
    "    print(rec)\n",
    "    excitability, peaks = spikes.find_excitability(patchdata2[rec])\n",
    "    excitabilities2.append(excitability)\n",
    "    peaks_list2.append(peaks)"
   ]
  },
  {
   "cell_type": "code",
   "execution_count": null,
   "metadata": {},
   "outputs": [],
   "source": [
    "excitabilities_filtered = [x for x in excitabilities if str(x) != 'nan']\n",
    "excitabilities_filtered2 = [x for x in excitabilities2 if str(x) != 'nan']\n"
   ]
  },
  {
   "cell_type": "code",
   "execution_count": null,
   "metadata": {},
   "outputs": [],
   "source": [
    "excitabilities_filtered2"
   ]
  },
  {
   "cell_type": "code",
   "execution_count": null,
   "metadata": {},
   "outputs": [],
   "source": [
    "import numpy as np\n",
    "\n",
    "fig, ax = plt.subplots()\n",
    "\n",
    "ax.boxplot([excitabilities_filtered, excitabilities_filtered2], labels=['DIV 16', 'DIV 25'])\n",
    "plt.title('Cell Excitability')\n",
    "\n",
    "# Calculate mean\n",
    "# mean_value = np.mean(excitabilities_filtered)\n",
    "# # Add a horizontal line for the mean and label it\n",
    "# plt.axhline(y=mean_value, color='red', linestyle='--', linewidth=1, label=f'Mean: {mean_value:.2f}')\n",
    "# # Add legend to show the mean\n",
    "# plt.legend(loc='upper right')\n",
    "\n",
    "plt.xlabel('Cell ID')\n",
    "plt.ylabel('Current Injection (pA)')\n",
    "plt.show()"
   ]
  },
  {
   "cell_type": "code",
   "execution_count": null,
   "metadata": {},
   "outputs": [],
   "source": [
    "volts = patchdata.loc['voltage', 'rec4_holding_cell1']\n",
    "voltsnp = volts.values\n",
    "voltsF = voltsnp.flatten()"
   ]
  },
  {
   "cell_type": "code",
   "execution_count": null,
   "metadata": {},
   "outputs": [],
   "source": [
    "from scipy.signal import find_peaks\n",
    "\n",
    "prom = 65\n",
    "threshold = -25\n",
    "wd = 4\n",
    "d = 50\n",
    "\n",
    "peaks, _ = find_peaks(voltsF, prominence = prom, threshold = threshold, width = wd, distance = d)\n"
   ]
  },
  {
   "cell_type": "code",
   "execution_count": null,
   "metadata": {},
   "outputs": [],
   "source": [
    "plt.plot(voltsF)\n",
    "plt.plot(peaks, voltsF[peaks], \"xr\")\n",
    "plt.show()"
   ]
  },
  {
   "cell_type": "code",
   "execution_count": null,
   "metadata": {},
   "outputs": [],
   "source": [
    "current = patchdata.loc['current', 'rec1_cell1']\n",
    "currnp = current.values\n",
    "currentF = currnp.flatten()\n",
    "plt.plot(currentF)\n",
    "plt.show()"
   ]
  },
  {
   "cell_type": "code",
   "execution_count": null,
   "metadata": {},
   "outputs": [],
   "source": [
    "# find current at initial peak index\n",
    "\n",
    "index_peak = peaks[0]\n",
    "current_at_peak = currentF[peaks[0]]\n",
    "default_current = currentF[0]\n",
    "current_injection = current_at_peak - default_current"
   ]
  },
  {
   "cell_type": "code",
   "execution_count": null,
   "metadata": {},
   "outputs": [],
   "source": [
    "current_injection"
   ]
  },
  {
   "cell_type": "code",
   "execution_count": null,
   "metadata": {},
   "outputs": [],
   "source": []
  },
  {
   "cell_type": "code",
   "execution_count": null,
   "metadata": {},
   "outputs": [],
   "source": []
  }
 ],
 "metadata": {
  "kernelspec": {
   "display_name": "Python (patch_analysis)",
   "language": "python",
   "name": "patch_analysis"
  },
  "language_info": {
   "codemirror_mode": {
    "name": "ipython",
    "version": 3
   },
   "file_extension": ".py",
   "mimetype": "text/x-python",
   "name": "python",
   "nbconvert_exporter": "python",
   "pygments_lexer": "ipython3",
   "version": "3.13.0"
  }
 },
 "nbformat": 4,
 "nbformat_minor": 2
}
