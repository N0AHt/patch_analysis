{
 "cells": [
  {
   "cell_type": "code",
   "execution_count": 1,
   "metadata": {},
   "outputs": [
    {
     "name": "stdout",
     "output_type": "stream",
     "text": [
      "['c:\\\\Users\\\\jl5675\\\\Desktop\\\\Noah\\\\github\\\\patch_analysis\\\\notebooks', 'c:\\\\Users\\\\jl5675\\\\AppData\\\\Local\\\\miniforge3\\\\envs\\\\analysis\\\\python312.zip', 'c:\\\\Users\\\\jl5675\\\\AppData\\\\Local\\\\miniforge3\\\\envs\\\\analysis\\\\DLLs', 'c:\\\\Users\\\\jl5675\\\\AppData\\\\Local\\\\miniforge3\\\\envs\\\\analysis\\\\Lib', 'c:\\\\Users\\\\jl5675\\\\AppData\\\\Local\\\\miniforge3\\\\envs\\\\analysis', '', 'c:\\\\Users\\\\jl5675\\\\AppData\\\\Local\\\\miniforge3\\\\envs\\\\analysis\\\\Lib\\\\site-packages', 'c:\\\\Users\\\\jl5675\\\\AppData\\\\Local\\\\miniforge3\\\\envs\\\\analysis\\\\Lib\\\\site-packages\\\\win32', 'c:\\\\Users\\\\jl5675\\\\AppData\\\\Local\\\\miniforge3\\\\envs\\\\analysis\\\\Lib\\\\site-packages\\\\win32\\\\lib', 'c:\\\\Users\\\\jl5675\\\\AppData\\\\Local\\\\miniforge3\\\\envs\\\\analysis\\\\Lib\\\\site-packages\\\\Pythonwin']\n"
     ]
    }
   ],
   "source": [
    "import sys\n",
    "import os\n",
    "sys.path.append(os.path.abspath('../utils')) # add my code to the path\n",
    "\n",
    "import patch_utils as patch\n",
    "import plot_utils as p_plot\n",
    "\n",
    "import matplotlib.pyplot as plt\n",
    "%matplotlib qt\n",
    "# for pop out plots\n",
    "\n",
    "%load_ext autoreload\n",
    "%autoreload 2"
   ]
  },
  {
   "cell_type": "code",
   "execution_count": 37,
   "metadata": {},
   "outputs": [],
   "source": [
    "folder_path = r'C:\\Users\\jl5675\\Desktop\\Noah\\data\\patch2'\n",
    "\n",
    "patchdata = patch.make_dataset_dataframe(folder_path)"
   ]
  },
  {
   "cell_type": "code",
   "execution_count": null,
   "metadata": {},
   "outputs": [],
   "source": [
    "#NOTE:\n",
    "# df = dataframe.loc['paths', 'rec1_cell1'] # need to access row and column! if I only use loc['row_name'] it will return a series!\n",
    "# note that you can force the return of a dataframe by using double brackets loc[ [row_name] ] (Returns a DataFrame (because pandas treats this as accessing multiple rows, even if it's only one).)\n",
    "\n",
    "rec_name = patchdata.columns[0]\n",
    "date = patchdata.loc['date', rec_name]\n",
    "title = 'DIV 16; ' + rec_name + '; ' + date"
   ]
  },
  {
   "cell_type": "code",
   "execution_count": 38,
   "metadata": {},
   "outputs": [],
   "source": [
    "\n",
    "p_plot.multiplot(patchdata.loc['voltage', rec_name], patchdata.loc['metadata', rec_name], title)\n",
    "\n",
    "p_plot.time_plot(patchdata.loc['voltage', rec_name], patchdata.loc['current', rec_name], patchdata.loc['metadata', rec_name], title)"
   ]
  },
  {
   "cell_type": "code",
   "execution_count": null,
   "metadata": {},
   "outputs": [],
   "source": [
    "%whos"
   ]
  },
  {
   "cell_type": "code",
   "execution_count": 35,
   "metadata": {},
   "outputs": [],
   "source": [
    "plt.plot(patchdata['rec1_cell1']['voltage'].loc[25])\n",
    "plt.plot(patchdata['rec4_holding_cell1']['voltage'].loc[25])\n",
    "plt.show()\n"
   ]
  },
  {
   "cell_type": "code",
   "execution_count": null,
   "metadata": {},
   "outputs": [],
   "source": [
    "patchdata.head()"
   ]
  },
  {
   "cell_type": "code",
   "execution_count": null,
   "metadata": {},
   "outputs": [],
   "source": []
  }
 ],
 "metadata": {
  "kernelspec": {
   "display_name": "Python 3",
   "language": "python",
   "name": "python3"
  },
  "language_info": {
   "codemirror_mode": {
    "name": "ipython",
    "version": 3
   },
   "file_extension": ".py",
   "mimetype": "text/x-python",
   "name": "python",
   "nbconvert_exporter": "python",
   "pygments_lexer": "ipython3",
   "version": "3.12.4"
  }
 },
 "nbformat": 4,
 "nbformat_minor": 2
}
