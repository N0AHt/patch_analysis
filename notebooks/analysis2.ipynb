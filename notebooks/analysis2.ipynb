{
 "cells": [
  {
   "cell_type": "code",
   "execution_count": 36,
   "metadata": {},
   "outputs": [],
   "source": [
    "import patch_utils as patch\n",
    "import plot_utils as p_plot\n",
    "import matplotlib.pyplot as plt\n",
    "%matplotlib qt\n",
    "# for pop out plots\n",
    "\n",
    "folder_path = r'C:\\Users\\jl5675\\Desktop\\Noah\\data\\patch2'"
   ]
  },
  {
   "cell_type": "code",
   "execution_count": 37,
   "metadata": {},
   "outputs": [],
   "source": [
    "patchdata = patch.make_dataset_dataframe(folder_path)\n",
    "\n",
    "#NOTE:\n",
    "# df = dataframe.loc['paths', 'rec1_cell1'] # need to access row and column! if I only use loc['row_name'] it will return a series!\n",
    "# note that you can force the return of a dataframe by using double brackets loc[ [row_name] ] (Returns a DataFrame (because pandas treats this as accessing multiple rows, even if it's only one).)\n",
    "\n",
    "rec_name = patchdata.columns[0]\n",
    "date = patchdata.loc['date', rec_name]\n",
    "title = 'DIV 16; ' + rec_name + '; ' + date\n"
   ]
  },
  {
   "cell_type": "code",
   "execution_count": 38,
   "metadata": {},
   "outputs": [],
   "source": [
    "\n",
    "p_plot.multiplot(patchdata.loc['voltage', rec_name], patchdata.loc['metadata', rec_name], title)\n",
    "\n",
    "p_plot.time_plot(patchdata.loc['voltage', rec_name], patchdata.loc['current', rec_name], patchdata.loc['metadata', rec_name], title)"
   ]
  },
  {
   "cell_type": "code",
   "execution_count": 39,
   "metadata": {},
   "outputs": [
    {
     "name": "stdout",
     "output_type": "stream",
     "text": [
      "Variable      Type         Data/Info\n",
      "------------------------------------\n",
      "date          str          2024/08/28\n",
      "folder_path   str          C:\\Users\\jl5675\\Desktop\\Noah\\data\\patch2\n",
      "p_plot        module       <module 'plot_utils' from<...>analysis\\\\plot_utils.py'>\n",
      "patch         module       <module 'patch_utils' fro<...>nalysis\\\\patch_utils.py'>\n",
      "patchdata     DataFrame                             <...>     2          3   ...  \n",
      "plt           module       <module 'matplotlib.pyplo<...>\\\\matplotlib\\\\pyplot.py'>\n",
      "rec_name      str          rec1_cell1\n",
      "title         str          DIV 16; rec1_cell1; 2024/08/28\n"
     ]
    }
   ],
   "source": [
    "%whos"
   ]
  },
  {
   "cell_type": "code",
   "execution_count": 35,
   "metadata": {},
   "outputs": [],
   "source": [
    "plt.plot(patchdata['rec1_cell1']['voltage'].loc[25])\n",
    "plt.plot(patchdata['rec4_holding_cell1']['voltage'].loc[25])\n",
    "plt.show()\n"
   ]
  },
  {
   "cell_type": "code",
   "execution_count": 30,
   "metadata": {},
   "outputs": [
    {
     "data": {
      "text/html": [
       "<div>\n",
       "<style scoped>\n",
       "    .dataframe tbody tr th:only-of-type {\n",
       "        vertical-align: middle;\n",
       "    }\n",
       "\n",
       "    .dataframe tbody tr th {\n",
       "        vertical-align: top;\n",
       "    }\n",
       "\n",
       "    .dataframe thead th {\n",
       "        text-align: right;\n",
       "    }\n",
       "</style>\n",
       "<table border=\"1\" class=\"dataframe\">\n",
       "  <thead>\n",
       "    <tr style=\"text-align: right;\">\n",
       "      <th></th>\n",
       "      <th>rec1_cell1</th>\n",
       "      <th>rec2_cell1</th>\n",
       "      <th>rec3_cell1</th>\n",
       "      <th>rec4_cell1</th>\n",
       "      <th>rec4_holding_cell1</th>\n",
       "    </tr>\n",
       "  </thead>\n",
       "  <tbody>\n",
       "    <tr>\n",
       "      <th>date</th>\n",
       "      <td>2024/08/28</td>\n",
       "      <td>2024/08/28</td>\n",
       "      <td>2024/08/28</td>\n",
       "      <td>2024/08/28</td>\n",
       "      <td>2024/08/28</td>\n",
       "    </tr>\n",
       "    <tr>\n",
       "      <th>paths</th>\n",
       "      <td>[C:\\Users\\jl5675\\Desktop\\Noah\\data\\patch2\\rec1...</td>\n",
       "      <td>[C:\\Users\\jl5675\\Desktop\\Noah\\data\\patch2\\rec2...</td>\n",
       "      <td>[C:\\Users\\jl5675\\Desktop\\Noah\\data\\patch2\\rec3...</td>\n",
       "      <td>[C:\\Users\\jl5675\\Desktop\\Noah\\data\\patch2\\rec4...</td>\n",
       "      <td>[C:\\Users\\jl5675\\Desktop\\Noah\\data\\patch2\\rec4...</td>\n",
       "    </tr>\n",
       "    <tr>\n",
       "      <th>metadata</th>\n",
       "      <td>resolution        ...</td>\n",
       "      <td>resolution        ...</td>\n",
       "      <td>resolution        ...</td>\n",
       "      <td>resolution        ...</td>\n",
       "      <td>resolution        ...</td>\n",
       "    </tr>\n",
       "    <tr>\n",
       "      <th>voltage</th>\n",
       "      <td>0          1          2          3   ...</td>\n",
       "      <td>0          1          2          3   ...</td>\n",
       "      <td>0          1          2          3    ...</td>\n",
       "      <td>0          1          2          3   ...</td>\n",
       "      <td>0          1          2          3   ...</td>\n",
       "    </tr>\n",
       "    <tr>\n",
       "      <th>current</th>\n",
       "      <td>0          1          2          3   ...</td>\n",
       "      <td>0         1         2         3       ...</td>\n",
       "      <td>0         1         2         3        ...</td>\n",
       "      <td>0         1         2         3       ...</td>\n",
       "      <td>0          1          2          3   ...</td>\n",
       "    </tr>\n",
       "  </tbody>\n",
       "</table>\n",
       "</div>"
      ],
      "text/plain": [
       "                                                 rec1_cell1  \\\n",
       "date                                             2024/08/28   \n",
       "paths     [C:\\Users\\jl5675\\Desktop\\Noah\\data\\patch2\\rec1...   \n",
       "metadata                              resolution        ...   \n",
       "voltage            0          1          2          3   ...   \n",
       "current            0          1          2          3   ...   \n",
       "\n",
       "                                                 rec2_cell1  \\\n",
       "date                                             2024/08/28   \n",
       "paths     [C:\\Users\\jl5675\\Desktop\\Noah\\data\\patch2\\rec2...   \n",
       "metadata                              resolution        ...   \n",
       "voltage            0          1          2          3   ...   \n",
       "current           0         1         2         3       ...   \n",
       "\n",
       "                                                 rec3_cell1  \\\n",
       "date                                             2024/08/28   \n",
       "paths     [C:\\Users\\jl5675\\Desktop\\Noah\\data\\patch2\\rec3...   \n",
       "metadata                              resolution        ...   \n",
       "voltage           0          1          2          3    ...   \n",
       "current          0         1         2         3        ...   \n",
       "\n",
       "                                                 rec4_cell1  \\\n",
       "date                                             2024/08/28   \n",
       "paths     [C:\\Users\\jl5675\\Desktop\\Noah\\data\\patch2\\rec4...   \n",
       "metadata                              resolution        ...   \n",
       "voltage            0          1          2          3   ...   \n",
       "current           0         1         2         3       ...   \n",
       "\n",
       "                                         rec4_holding_cell1  \n",
       "date                                             2024/08/28  \n",
       "paths     [C:\\Users\\jl5675\\Desktop\\Noah\\data\\patch2\\rec4...  \n",
       "metadata                              resolution        ...  \n",
       "voltage            0          1          2          3   ...  \n",
       "current            0          1          2          3   ...  "
      ]
     },
     "execution_count": 30,
     "metadata": {},
     "output_type": "execute_result"
    }
   ],
   "source": [
    "patchdata.head()"
   ]
  },
  {
   "cell_type": "code",
   "execution_count": null,
   "metadata": {},
   "outputs": [],
   "source": []
  }
 ],
 "metadata": {
  "kernelspec": {
   "display_name": "Python 3",
   "language": "python",
   "name": "python3"
  },
  "language_info": {
   "codemirror_mode": {
    "name": "ipython",
    "version": 3
   },
   "file_extension": ".py",
   "mimetype": "text/x-python",
   "name": "python",
   "nbconvert_exporter": "python",
   "pygments_lexer": "ipython3",
   "version": "3.12.4"
  }
 },
 "nbformat": 4,
 "nbformat_minor": 2
}
