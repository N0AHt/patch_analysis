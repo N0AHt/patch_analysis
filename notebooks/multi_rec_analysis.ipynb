{
 "cells": [
  {
   "cell_type": "markdown",
   "metadata": {},
   "source": [
    "## Analyse and Compare Multiple Patch-Clamp Recordings "
   ]
  },
  {
   "cell_type": "code",
   "execution_count": 1,
   "metadata": {},
   "outputs": [],
   "source": [
    "from patch_analysis.utils import patch_utils as patch, plot_utils as p_plot, spike_analysis_utils as spikes\n",
    "\n",
    "import matplotlib.pyplot as plt\n",
    "%matplotlib qt \n",
    "# for pop out plots\n",
    "# NOTE: This doesn't work on VScode unless you install Pyside6 in the environment you are using as a kernel\n",
    "\n",
    "%load_ext autoreload\n",
    "%autoreload 2"
   ]
  },
  {
   "cell_type": "code",
   "execution_count": 2,
   "metadata": {},
   "outputs": [
    {
     "name": "stdout",
     "output_type": "stream",
     "text": [
      "ignored folder:  data\n"
     ]
    }
   ],
   "source": [
    "folder_path = r'C:\\Users\\jl5675\\Desktop\\Noah\\data\\patch2'\n",
    "folder_path_x = r'C:\\Users\\jl5675\\Desktop\\Noah\\data\\tere_sept\\9'\n",
    "\n",
    "patchdata1 = patch.make_dataset_dataframe(folder_path, stim=False)\n",
    "patchdata2 = patch.make_dataset_dataframe(folder_path_x, stim=False)\n"
   ]
  },
  {
   "cell_type": "code",
   "execution_count": 3,
   "metadata": {},
   "outputs": [],
   "source": [
    "#NOTE:\n",
    "# df = dataframe.loc['paths', 'rec1_cell1'] # need to access row and column! if I only use loc['row_name'] it will return a series!\n",
    "# note that you can force the return of a dataframe by using double brackets loc[ [row_name] ] (Returns a DataFrame (because pandas treats this as accessing multiple rows, even if it's only one).)\n",
    "\n",
    "rec_name1 = patchdata1.columns[0]\n",
    "date1 = patchdata1.loc['date', rec_name1]\n",
    "title1 = 'DIV 16; ' + 'cell_1'# + '; ' + date\n",
    "\n",
    "rec_name2 = patchdata2.columns[1]\n",
    "date2 = patchdata2.loc['date', rec_name2]\n",
    "title2 = 'DIV ~25; ' + 'cell_1'# + '; ' + date\n"
   ]
  },
  {
   "cell_type": "code",
   "execution_count": 4,
   "metadata": {},
   "outputs": [],
   "source": [
    "p_plot.multiplot(patchdata1.loc['voltage', rec_name1], patchdata1.loc['metadata', rec_name1], title1)\n",
    "p_plot.time_plot(patchdata1.loc['voltage', rec_name1], patchdata1.loc['current', rec_name1], patchdata1.loc['metadata', rec_name1], title1)\n",
    "\n",
    "p_plot.time_plot(patchdata2.loc['voltage', rec_name2], patchdata2.loc['current', rec_name2], patchdata2.loc['metadata', rec_name2], title2)\n",
    "p_plot.multiplot(patchdata2.loc['voltage', rec_name2], patchdata2.loc['metadata', rec_name2], title2)\n"
   ]
  },
  {
   "cell_type": "code",
   "execution_count": 9,
   "metadata": {},
   "outputs": [],
   "source": [
    "plt.plot(patchdata1['rec1_cell1']['voltage'].loc[7])\n",
    "# plt.plot(patchdata['rec4_holding_cell1']['voltage'].loc[15])\n",
    "plt.show()\n"
   ]
  },
  {
   "cell_type": "code",
   "execution_count": 11,
   "metadata": {},
   "outputs": [],
   "source": [
    "# patchdata1.loc['metadata'].xx3_cell1"
   ]
  },
  {
   "cell_type": "code",
   "execution_count": 13,
   "metadata": {},
   "outputs": [],
   "source": [
    "excitability1, peaks1 = spikes.find_excitability(patchdata1['rec4_holding_cell1'])\n",
    "excitability2, peaks2 = spikes.find_excitability(patchdata2[rec_name2])\n"
   ]
  },
  {
   "cell_type": "code",
   "execution_count": 16,
   "metadata": {},
   "outputs": [],
   "source": [
    "data_long_V1 = patchdata1.loc['voltage', 'rec4_holding_cell1'].values[17]\n",
    "data_long_V2 = patchdata2.loc['voltage', rec_name2].values[10]\n",
    "\n",
    "# data_long_I = data_current.values.flatten()\n",
    "resolution = 10\n",
    "import numpy as np\n",
    "x_axis_long = np.linspace(0, len(data_long_V1) / resolution, len(data_long_V1)) \n",
    "\n",
    "# First subplot\n",
    "plt.plot(x_axis_long, data_long_V1, color='b', linestyle='-', label = 'DIV 16')\n",
    "plt.plot(x_axis_long, data_long_V2, color='r', linestyle='-', label = 'DIV 25')\n",
    "\n",
    "\n",
    "# plt.plot(peaks2/10, data_long_V[peaks2], \"xr\")\n",
    "\n",
    "plt.title('Recorded APs')\n",
    "plt.ylabel('Voltage (mV)')\n",
    "plt.legend()\n",
    "plt.xlabel('Time (ms)')\n",
    "plt.grid(True)\n",
    "\n",
    "\n",
    "plt.show()"
   ]
  },
  {
   "cell_type": "code",
   "execution_count": 18,
   "metadata": {},
   "outputs": [
    {
     "name": "stdout",
     "output_type": "stream",
     "text": [
      "rec1_cell1\n",
      "rec2_cell1\n",
      "rec3_cell1\n",
      "rec4_cell1\n",
      "rec4_holding_cell1\n"
     ]
    }
   ],
   "source": [
    "excitabilities = []\n",
    "peaks_list = []\n",
    "for rec in patchdata1.columns:\n",
    "    print(rec)\n",
    "    excitability, peaks = spikes.find_excitability(patchdata1[rec])\n",
    "    excitabilities.append(excitability)\n",
    "    peaks_list.append(peaks)\n"
   ]
  },
  {
   "cell_type": "code",
   "execution_count": 19,
   "metadata": {},
   "outputs": [
    {
     "name": "stdout",
     "output_type": "stream",
     "text": [
      "100ms11mw_cell1\n",
      "10ms6mw_cell1\n",
      "1ms12mw_cell1\n",
      "300ms9mw2_cell1\n"
     ]
    }
   ],
   "source": [
    "excitabilities2 = []\n",
    "peaks_list2 = []\n",
    "for rec in patchdata2.columns:\n",
    "    print(rec)\n",
    "    excitability, peaks = spikes.find_excitability(patchdata2[rec])\n",
    "    excitabilities2.append(excitability)\n",
    "    peaks_list2.append(peaks)"
   ]
  },
  {
   "cell_type": "code",
   "execution_count": 20,
   "metadata": {},
   "outputs": [],
   "source": [
    "excitabilities_filtered = [x for x in excitabilities if str(x) != 'nan']\n",
    "excitabilities_filtered2 = [x for x in excitabilities2 if str(x) != 'nan']\n"
   ]
  },
  {
   "cell_type": "code",
   "execution_count": 21,
   "metadata": {},
   "outputs": [
    {
     "data": {
      "text/plain": [
       "[np.float64(-0.6103509999999943), np.float64(-1.8310549999999992)]"
      ]
     },
     "execution_count": 21,
     "metadata": {},
     "output_type": "execute_result"
    }
   ],
   "source": [
    "excitabilities_filtered2"
   ]
  },
  {
   "cell_type": "code",
   "execution_count": 22,
   "metadata": {},
   "outputs": [
    {
     "name": "stderr",
     "output_type": "stream",
     "text": [
      "C:\\Users\\jl5675\\AppData\\Local\\Temp\\ipykernel_2844\\1188348578.py:5: MatplotlibDeprecationWarning: The 'labels' parameter of boxplot() has been renamed 'tick_labels' since Matplotlib 3.9; support for the old name will be dropped in 3.11.\n",
      "  ax.boxplot([excitabilities_filtered, excitabilities_filtered2], labels=['DIV 16', 'DIV 25'])\n"
     ]
    }
   ],
   "source": [
    "import numpy as np\n",
    "\n",
    "fig, ax = plt.subplots()\n",
    "\n",
    "ax.boxplot([excitabilities_filtered, excitabilities_filtered2], labels=['DIV 16', 'DIV 25'])\n",
    "plt.title('Cell Excitability')\n",
    "\n",
    "# Calculate mean\n",
    "# mean_value = np.mean(excitabilities_filtered)\n",
    "# # Add a horizontal line for the mean and label it\n",
    "# plt.axhline(y=mean_value, color='red', linestyle='--', linewidth=1, label=f'Mean: {mean_value:.2f}')\n",
    "# # Add legend to show the mean\n",
    "# plt.legend(loc='upper right')\n",
    "\n",
    "plt.xlabel('Cell ID')\n",
    "plt.ylabel('Current Injection (pA)')\n",
    "plt.show()"
   ]
  },
  {
   "cell_type": "code",
   "execution_count": null,
   "metadata": {},
   "outputs": [],
   "source": [
    "volts = patchdata.loc['voltage', 'rec4_holding_cell1']\n",
    "voltsnp = volts.values\n",
    "voltsF = voltsnp.flatten()"
   ]
  },
  {
   "cell_type": "code",
   "execution_count": null,
   "metadata": {},
   "outputs": [],
   "source": [
    "from scipy.signal import find_peaks\n",
    "\n",
    "prom = 65\n",
    "threshold = -25\n",
    "wd = 4\n",
    "d = 50\n",
    "\n",
    "peaks, _ = find_peaks(voltsF, prominence = prom, threshold = threshold, width = wd, distance = d)\n"
   ]
  },
  {
   "cell_type": "code",
   "execution_count": 6,
   "metadata": {},
   "outputs": [
    {
     "ename": "NameError",
     "evalue": "name 'voltsF' is not defined",
     "output_type": "error",
     "traceback": [
      "\u001b[1;31m---------------------------------------------------------------------------\u001b[0m",
      "\u001b[1;31mNameError\u001b[0m                                 Traceback (most recent call last)",
      "Cell \u001b[1;32mIn[6], line 1\u001b[0m\n\u001b[1;32m----> 1\u001b[0m plt\u001b[38;5;241m.\u001b[39mplot(voltsF)\n\u001b[0;32m      2\u001b[0m plt\u001b[38;5;241m.\u001b[39mplot(peaks, voltsF[peaks], \u001b[38;5;124m\"\u001b[39m\u001b[38;5;124mxr\u001b[39m\u001b[38;5;124m\"\u001b[39m)\n\u001b[0;32m      3\u001b[0m plt\u001b[38;5;241m.\u001b[39mshow()\n",
      "\u001b[1;31mNameError\u001b[0m: name 'voltsF' is not defined"
     ]
    }
   ],
   "source": [
    "plt.plot(voltsF)\n",
    "plt.plot(peaks, voltsF[peaks], \"xr\")\n",
    "plt.show()"
   ]
  },
  {
   "cell_type": "code",
   "execution_count": 7,
   "metadata": {},
   "outputs": [
    {
     "ename": "NameError",
     "evalue": "name 'patchdata' is not defined",
     "output_type": "error",
     "traceback": [
      "\u001b[1;31m---------------------------------------------------------------------------\u001b[0m",
      "\u001b[1;31mNameError\u001b[0m                                 Traceback (most recent call last)",
      "Cell \u001b[1;32mIn[7], line 1\u001b[0m\n\u001b[1;32m----> 1\u001b[0m current \u001b[38;5;241m=\u001b[39m patchdata\u001b[38;5;241m.\u001b[39mloc[\u001b[38;5;124m'\u001b[39m\u001b[38;5;124mcurrent\u001b[39m\u001b[38;5;124m'\u001b[39m, \u001b[38;5;124m'\u001b[39m\u001b[38;5;124mrec1_cell1\u001b[39m\u001b[38;5;124m'\u001b[39m]\n\u001b[0;32m      2\u001b[0m currnp \u001b[38;5;241m=\u001b[39m current\u001b[38;5;241m.\u001b[39mvalues\n\u001b[0;32m      3\u001b[0m currentF \u001b[38;5;241m=\u001b[39m currnp\u001b[38;5;241m.\u001b[39mflatten()\n",
      "\u001b[1;31mNameError\u001b[0m: name 'patchdata' is not defined"
     ]
    }
   ],
   "source": [
    "current = patchdata.loc['current', 'rec1_cell1']\n",
    "currnp = current.values\n",
    "currentF = currnp.flatten()\n",
    "plt.plot(currentF)\n",
    "plt.show()"
   ]
  },
  {
   "cell_type": "code",
   "execution_count": 8,
   "metadata": {},
   "outputs": [
    {
     "ename": "NameError",
     "evalue": "name 'peaks' is not defined",
     "output_type": "error",
     "traceback": [
      "\u001b[1;31m---------------------------------------------------------------------------\u001b[0m",
      "\u001b[1;31mNameError\u001b[0m                                 Traceback (most recent call last)",
      "Cell \u001b[1;32mIn[8], line 3\u001b[0m\n\u001b[0;32m      1\u001b[0m \u001b[38;5;66;03m# find current at initial peak index\u001b[39;00m\n\u001b[1;32m----> 3\u001b[0m index_peak \u001b[38;5;241m=\u001b[39m peaks[\u001b[38;5;241m0\u001b[39m]\n\u001b[0;32m      4\u001b[0m current_at_peak \u001b[38;5;241m=\u001b[39m currentF[peaks[\u001b[38;5;241m0\u001b[39m]]\n\u001b[0;32m      5\u001b[0m default_current \u001b[38;5;241m=\u001b[39m currentF[\u001b[38;5;241m0\u001b[39m]\n",
      "\u001b[1;31mNameError\u001b[0m: name 'peaks' is not defined"
     ]
    }
   ],
   "source": [
    "# find current at initial peak index\n",
    "\n",
    "index_peak = peaks[0]\n",
    "current_at_peak = currentF[peaks[0]]\n",
    "default_current = currentF[0]\n",
    "current_injection = current_at_peak - default_current"
   ]
  },
  {
   "cell_type": "code",
   "execution_count": null,
   "metadata": {},
   "outputs": [],
   "source": [
    "current_injection"
   ]
  },
  {
   "cell_type": "code",
   "execution_count": null,
   "metadata": {},
   "outputs": [],
   "source": []
  },
  {
   "cell_type": "code",
   "execution_count": null,
   "metadata": {},
   "outputs": [],
   "source": []
  }
 ],
 "metadata": {
  "kernelspec": {
   "display_name": "Python (patch_analysis)",
   "language": "python",
   "name": "patch_analysis"
  },
  "language_info": {
   "codemirror_mode": {
    "name": "ipython",
    "version": 3
   },
   "file_extension": ".py",
   "mimetype": "text/x-python",
   "name": "python",
   "nbconvert_exporter": "python",
   "pygments_lexer": "ipython3",
   "version": "3.13.0"
  }
 },
 "nbformat": 4,
 "nbformat_minor": 2
}
