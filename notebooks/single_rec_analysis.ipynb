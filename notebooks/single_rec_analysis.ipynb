{
 "cells": [
  {
   "cell_type": "code",
   "execution_count": null,
   "metadata": {},
   "outputs": [],
   "source": [
    "from patch_analysis.utils import patch_utils as patch, plot_utils as p_plot, spike_analysis_utils as spikes\n",
    "\n",
    "import matplotlib.pyplot as plt\n",
    "%matplotlib qt \n",
    "# for pop out plots\n",
    "# NOTE: This doesn't work on VScode unless you install Pyside6 in the environment you are using as a kernel\n",
    "\n",
    "%load_ext autoreload\n",
    "%autoreload 2"
   ]
  },
  {
   "cell_type": "code",
   "execution_count": null,
   "metadata": {},
   "outputs": [],
   "source": [
    "folder_path = r'C:\\Users\\jl5675\\Desktop\\Noah\\data\\npatch\\noah\\20241118\\cell3'\n",
    "\n",
    "patchdata = patch.make_dataset_dataframe(folder_path, stim=False)"
   ]
  },
  {
   "cell_type": "code",
   "execution_count": null,
   "metadata": {},
   "outputs": [],
   "source": [
    "patchdata"
   ]
  },
  {
   "cell_type": "code",
   "execution_count": null,
   "metadata": {},
   "outputs": [],
   "source": [
    "rec_name = patchdata.columns[2]\n",
    "date = patchdata.loc['date', rec_name]\n",
    "title1 = 'DIV 13; ' + 'cell_3' + '; ' + date"
   ]
  },
  {
   "cell_type": "code",
   "execution_count": null,
   "metadata": {},
   "outputs": [],
   "source": [
    "p_plot.multiplot(patchdata.loc['voltage', rec_name], patchdata.loc['metadata', rec_name], title1)\n",
    "p_plot.time_plot(patchdata.loc['voltage', rec_name], patchdata.loc['current', rec_name], patchdata.loc['metadata', rec_name], title1)"
   ]
  },
  {
   "cell_type": "code",
   "execution_count": null,
   "metadata": {},
   "outputs": [],
   "source": []
  }
 ],
 "metadata": {
  "kernelspec": {
   "display_name": "Python (patch_analysis)",
   "language": "python",
   "name": "patch_analysis"
  },
  "language_info": {
   "codemirror_mode": {
    "name": "ipython",
    "version": 3
   },
   "file_extension": ".py",
   "mimetype": "text/x-python",
   "name": "python",
   "nbconvert_exporter": "python",
   "pygments_lexer": "ipython3",
   "version": "3.13.0"
  }
 },
 "nbformat": 4,
 "nbformat_minor": 2
}
