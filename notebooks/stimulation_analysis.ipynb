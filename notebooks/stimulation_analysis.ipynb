{
 "cells": [
  {
   "cell_type": "code",
   "execution_count": 1,
   "metadata": {},
   "outputs": [],
   "source": [
    "from patch_analysis.utils import patch_utils as patch, plot_utils as p_plot, spike_analysis_utils as spikes\n",
    "\n",
    "import matplotlib.pyplot as plt\n",
    "#for pop-out, interactive plots\n",
    "%matplotlib qt\n",
    "\n",
    "%load_ext autoreload\n",
    "%autoreload 2\n"
   ]
  },
  {
   "cell_type": "code",
   "execution_count": 2,
   "metadata": {},
   "outputs": [],
   "source": [
    "folder = r'C:\\Users\\jl5675\\Desktop\\Noah\\data\\tere_sept\\9'\n",
    "\n",
    "patchdata = patch.make_dataset_dataframe(folder, stim = True)\n",
    "\n",
    "recName = patchdata.columns[0]"
   ]
  },
  {
   "cell_type": "code",
   "execution_count": 3,
   "metadata": {},
   "outputs": [],
   "source": [
    "p_plot.time_plot_stim(patchdata.loc['voltage', recName], patchdata.loc['stimulation', recName], patchdata.loc['metadata', recName], title = recName)\n"
   ]
  },
  {
   "cell_type": "code",
   "execution_count": 4,
   "metadata": {},
   "outputs": [],
   "source": [
    "volts = patchdata.loc['voltage', recName].values\n",
    "stims = patchdata.loc['stimulation', recName]\n",
    "\n",
    "cross_list = []\n",
    "for i in range(len(stims)):\n",
    "    cross_list.append(p_plot.find_threshold_crosses(stims.loc[i]))\n",
    "\n",
    "# cross_list[0]\n",
    "    \n",
    "\n",
    "# for i, v in enumerate(volts):\n",
    "#     plt.plot(v)\n",
    "#     plt.axvspan(crosses[i][0] - 10000*(i+1), crosses[i][1] - 10000*(i+1), color = 'r', alpha = 0.05, lw = 0)\n",
    "# plt.show()"
   ]
  },
  {
   "cell_type": "code",
   "execution_count": 13,
   "metadata": {},
   "outputs": [],
   "source": [
    "recNames = patchdata.columns.tolist()\n",
    "\n",
    "for name in recNames:\n",
    "    p_plot.time_plot(patchdata.loc['voltage', name], patchdata.loc['stimulation', name], \n",
    "                     patchdata.loc['metadata', name], title = name)\n",
    "    \n",
    "    p_plot.multiplot(patchdata.loc['voltage', name], patchdata.loc['metadata', name], title = name)"
   ]
  },
  {
   "cell_type": "code",
   "execution_count": null,
   "metadata": {},
   "outputs": [],
   "source": []
  }
 ],
 "metadata": {
  "kernelspec": {
   "display_name": "Python (patch_analysis)",
   "language": "python",
   "name": "patch_analysis"
  },
  "language_info": {
   "codemirror_mode": {
    "name": "ipython",
    "version": 3
   },
   "file_extension": ".py",
   "mimetype": "text/x-python",
   "name": "python",
   "nbconvert_exporter": "python",
   "pygments_lexer": "ipython3",
   "version": "3.13.0"
  }
 },
 "nbformat": 4,
 "nbformat_minor": 2
}
